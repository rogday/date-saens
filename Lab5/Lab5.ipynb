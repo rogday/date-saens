{
 "cells": [
  {
   "cell_type": "markdown",
   "metadata": {
    "_uuid": "c30a9b05044a52c4c0531726f6eb5aa9f8187821"
   },
   "source": [
    "# Лабораторная работа #5\n",
    "## Выполнили Смирнов Егор и Максимов Артем"
   ]
  },
  {
   "cell_type": "markdown",
   "metadata": {
    "_uuid": "9fdd802f4fede3127f248967e2cd8e236a20e724"
   },
   "source": [
    "В этой лабораторной нашей задачей былп работа с датасетом из написанных английских букв. Первым делом мы построили простенькую нейронную сеть с 2-3 скрытыми слоями.\n"
   ]
  },
  {
   "cell_type": "code",
   "execution_count": 8,
   "metadata": {
    "_uuid": "0891cb0e7ebd9e218e953a780d3f164a8f67243d"
   },
   "outputs": [
    {
     "name": "stdout",
     "output_type": "stream",
     "text": [
      "Epoch 1/50\n",
      "65000/65000 [==============================] - 6s 90us/step - loss: 0.9262 - acc: 0.7209\n",
      "Epoch 2/50\n",
      "65000/65000 [==============================] - 5s 84us/step - loss: 0.5059 - acc: 0.8407\n",
      "Epoch 3/50\n",
      "65000/65000 [==============================] - 5s 84us/step - loss: 0.4140 - acc: 0.8674\n",
      "Epoch 4/50\n",
      "65000/65000 [==============================] - 5s 84us/step - loss: 0.3620 - acc: 0.8802\n",
      "Epoch 5/50\n",
      "65000/65000 [==============================] - 5s 82us/step - loss: 0.3266 - acc: 0.8910\n",
      "Epoch 6/50\n",
      "65000/65000 [==============================] - 5s 81us/step - loss: 0.2968 - acc: 0.8996\n",
      "Epoch 7/50\n",
      "65000/65000 [==============================] - 5s 82us/step - loss: 0.2831 - acc: 0.9028\n",
      "Epoch 8/50\n",
      "65000/65000 [==============================] - 5s 82us/step - loss: 0.2639 - acc: 0.9088\n",
      "Epoch 9/50\n",
      "65000/65000 [==============================] - 5s 82us/step - loss: 0.2485 - acc: 0.9136\n",
      "Epoch 10/50\n",
      "65000/65000 [==============================] - 5s 80us/step - loss: 0.2399 - acc: 0.9162\n",
      "Epoch 11/50\n",
      "65000/65000 [==============================] - 5s 82us/step - loss: 0.2287 - acc: 0.9188\n",
      "Epoch 12/50\n",
      "65000/65000 [==============================] - 5s 82us/step - loss: 0.2206 - acc: 0.9215\n",
      "Epoch 13/50\n",
      "65000/65000 [==============================] - 5s 84us/step - loss: 0.2148 - acc: 0.9230\n",
      "Epoch 14/50\n",
      "65000/65000 [==============================] - 5s 82us/step - loss: 0.2053 - acc: 0.9254\n",
      "Epoch 15/50\n",
      "65000/65000 [==============================] - 6s 85us/step - loss: 0.2028 - acc: 0.9272\n",
      "Epoch 16/50\n",
      "65000/65000 [==============================] - 5s 83us/step - loss: 0.1972 - acc: 0.9281\n",
      "Epoch 17/50\n",
      "65000/65000 [==============================] - 5s 83us/step - loss: 0.1935 - acc: 0.9300\n",
      "Epoch 18/50\n",
      "65000/65000 [==============================] - 5s 81us/step - loss: 0.1860 - acc: 0.9311\n",
      "Epoch 19/50\n",
      "65000/65000 [==============================] - 5s 82us/step - loss: 0.1841 - acc: 0.9316\n",
      "Epoch 20/50\n",
      "65000/65000 [==============================] - 5s 82us/step - loss: 0.1772 - acc: 0.9342\n",
      "Epoch 21/50\n",
      "65000/65000 [==============================] - 5s 82us/step - loss: 0.1788 - acc: 0.9343\n",
      "Epoch 22/50\n",
      "65000/65000 [==============================] - 5s 82us/step - loss: 0.1773 - acc: 0.9358\n",
      "Epoch 23/50\n",
      "65000/65000 [==============================] - 5s 81us/step - loss: 0.1708 - acc: 0.9385\n",
      "Epoch 24/50\n",
      "65000/65000 [==============================] - 5s 82us/step - loss: 0.1657 - acc: 0.9384\n",
      "Epoch 25/50\n",
      "65000/65000 [==============================] - 5s 80us/step - loss: 0.1660 - acc: 0.9377\n",
      "Epoch 26/50\n",
      "65000/65000 [==============================] - 5s 81us/step - loss: 0.1646 - acc: 0.9402\n",
      "Epoch 27/50\n",
      "65000/65000 [==============================] - 5s 82us/step - loss: 0.1662 - acc: 0.9385\n",
      "Epoch 28/50\n",
      "65000/65000 [==============================] - 5s 83us/step - loss: 0.1634 - acc: 0.9395\n",
      "Epoch 29/50\n",
      "65000/65000 [==============================] - 5s 81us/step - loss: 0.1563 - acc: 0.9418\n",
      "Epoch 30/50\n",
      "65000/65000 [==============================] - 5s 82us/step - loss: 0.1540 - acc: 0.9421\n",
      "Epoch 31/50\n",
      "65000/65000 [==============================] - 5s 81us/step - loss: 0.1565 - acc: 0.9422\n",
      "Epoch 32/50\n",
      "65000/65000 [==============================] - 5s 82us/step - loss: 0.1537 - acc: 0.9437\n",
      "Epoch 33/50\n",
      "65000/65000 [==============================] - 5s 81us/step - loss: 0.1519 - acc: 0.9434\n",
      "Epoch 34/50\n",
      "65000/65000 [==============================] - 5s 81us/step - loss: 0.1495 - acc: 0.9445\n",
      "Epoch 35/50\n",
      "65000/65000 [==============================] - 5s 82us/step - loss: 0.1477 - acc: 0.9456\n",
      "Epoch 36/50\n",
      "65000/65000 [==============================] - 5s 82us/step - loss: 0.1504 - acc: 0.9442\n",
      "Epoch 37/50\n",
      "65000/65000 [==============================] - 5s 82us/step - loss: 0.1493 - acc: 0.9453\n",
      "Epoch 38/50\n",
      "65000/65000 [==============================] - 5s 82us/step - loss: 0.1442 - acc: 0.9463\n",
      "Epoch 39/50\n",
      "65000/65000 [==============================] - 5s 81us/step - loss: 0.1491 - acc: 0.9450\n",
      "Epoch 40/50\n",
      "65000/65000 [==============================] - 5s 81us/step - loss: 0.1413 - acc: 0.9470\n",
      "Epoch 41/50\n",
      "65000/65000 [==============================] - 5s 81us/step - loss: 0.1476 - acc: 0.9455\n",
      "Epoch 42/50\n",
      "65000/65000 [==============================] - 5s 83us/step - loss: 0.1464 - acc: 0.9461\n",
      "Epoch 43/50\n",
      "65000/65000 [==============================] - 5s 84us/step - loss: 0.1391 - acc: 0.9482\n",
      "Epoch 44/50\n",
      "65000/65000 [==============================] - 5s 84us/step - loss: 0.1426 - acc: 0.9482\n",
      "Epoch 45/50\n",
      "65000/65000 [==============================] - 5s 83us/step - loss: 0.1358 - acc: 0.9500\n",
      "Epoch 46/50\n",
      "65000/65000 [==============================] - 5s 82us/step - loss: 0.1391 - acc: 0.9477\n",
      "Epoch 47/50\n",
      "65000/65000 [==============================] - 5s 84us/step - loss: 0.1415 - acc: 0.9485\n",
      "Epoch 48/50\n",
      "65000/65000 [==============================] - 5s 84us/step - loss: 0.1374 - acc: 0.9493\n",
      "Epoch 49/50\n",
      "65000/65000 [==============================] - 5s 84us/step - loss: 0.1381 - acc: 0.9494\n",
      "Epoch 50/50\n",
      "65000/65000 [==============================] - 5s 83us/step - loss: 0.1405 - acc: 0.9487\n",
      "13000/13000 [==============================] - 0s 26us/step\n",
      "[0.3197328020746891, 0.917461542899792]\n"
     ]
    }
   ],
   "source": [
    "import numpy as np\n",
    "import tensorflow as tf\n",
    "\n",
    "from keras.utils import np_utils\n",
    "from keras.datasets import mnist\n",
    "from keras.models import Sequential\n",
    "from keras.layers import Dense, Dropout, Activation, Conv2D\n",
    "\n",
    "import pandas as pd\n",
    "train = pd.read_csv('../input/train.csv', header = None)\n",
    "\n",
    "y_train = train.iloc[:, 0:1].copy()\n",
    "x_train = train.iloc[:, 1:785].copy()\n",
    "\n",
    "test = pd.read_csv('../input/test.csv', header = None)\n",
    "\n",
    "y_test = test.iloc[:, 0:1].copy()\n",
    "x_test = test.iloc[:, 1:785].copy()\n",
    "\n",
    "y_train = np_utils.to_categorical(y_train)\n",
    "y_test = np_utils.to_categorical(y_test)\n",
    "\n",
    "x_train = x_train.astype('float32')/255.\n",
    "x_test = x_test.astype('float32')/255.\n",
    "\n",
    "x_train = x_train.values.reshape((-1, 784))\n",
    "x_test = x_test.values.reshape((-1, 784))\n",
    "\n",
    "N, M = x_train.shape\n",
    "O = 1024\n",
    "P = 512\n",
    "T = 27\n",
    "batch_size = 100\n",
    "learning_rate = 0.001\n",
    "training_epochs = 50\n",
    "\n",
    "model = Sequential()\n",
    "\n",
    "model.add(Dense(P))\n",
    "model.add(Dropout(rate = 0.3))\n",
    "model.add(Activation('relu'))\n",
    "\n",
    "model.add(Dense(P))\n",
    "model.add(Dropout(rate = 0.3))\n",
    "model.add(Activation('relu'))\n",
    "\n",
    "model.add(Dense(T, activation='softmax'))\n",
    "model.compile(optimizer='adam', loss='categorical_crossentropy', metrics=['accuracy'])\n",
    "history = model.fit(x_train, y_train, epochs=training_epochs, batch_size=batch_size)\n",
    "score = model.evaluate(x_test, y_test, batch_size=batch_size)\n",
    "print(score)"
   ]
  },
  {
   "cell_type": "markdown",
   "metadata": {
    "_uuid": "0e6005c94911f3abd7f556e8ccfc7e884786caf7"
   },
   "source": [
    "Значение score = 0.917. Это довольно маленькая точность на тестовых данных\n",
    "\n",
    "В данном случае мы взяли 2 обычных плотных слоя, после каждого делается дропаут трети нейронов(для предотвращения переобучения). Функцией активации является ReLU, тк она дает лучшие результаты среди всех запусков, которые мы делали\n",
    "\n",
    "Количество нейронов на обоих внутренних слоях выбрано одинаковым и равным 512 потому что это дало лучшие результаты в ходе тестирования. Большие значения увеличивали время работы, не давая прироста по значению score\n",
    "\n",
    "Попробуем сеть с 3 скрытыми слоями"
   ]
  },
  {
   "cell_type": "code",
   "execution_count": 9,
   "metadata": {
    "_uuid": "95d8817ccc50e8e6d4a7cf0af25fc4e81a1659ac"
   },
   "outputs": [
    {
     "name": "stdout",
     "output_type": "stream",
     "text": [
      "Epoch 1/50\n",
      "65000/65000 [==============================] - 17s 266us/step - loss: 0.8822 - acc: 0.7302\n",
      "Epoch 2/50\n",
      "65000/65000 [==============================] - 16s 252us/step - loss: 0.4128 - acc: 0.8648\n",
      "Epoch 3/50\n",
      "65000/65000 [==============================] - 17s 255us/step - loss: 0.3256 - acc: 0.8919\n",
      "Epoch 4/50\n",
      "65000/65000 [==============================] - 17s 255us/step - loss: 0.2739 - acc: 0.9065\n",
      "Epoch 5/50\n",
      "65000/65000 [==============================] - 16s 248us/step - loss: 0.2391 - acc: 0.9180\n",
      "Epoch 6/50\n",
      "65000/65000 [==============================] - 16s 244us/step - loss: 0.2174 - acc: 0.9241\n",
      "Epoch 7/50\n",
      "65000/65000 [==============================] - 17s 256us/step - loss: 0.1961 - acc: 0.9300\n",
      "Epoch 8/50\n",
      "65000/65000 [==============================] - 17s 257us/step - loss: 0.1800 - acc: 0.9350\n",
      "Epoch 9/50\n",
      "65000/65000 [==============================] - 17s 255us/step - loss: 0.1640 - acc: 0.9402\n",
      "Epoch 10/50\n",
      "65000/65000 [==============================] - 16s 247us/step - loss: 0.1565 - acc: 0.9435\n",
      "Epoch 11/50\n",
      "65000/65000 [==============================] - 16s 245us/step - loss: 0.1430 - acc: 0.9472\n",
      "Epoch 12/50\n",
      "65000/65000 [==============================] - 17s 255us/step - loss: 0.1348 - acc: 0.9502\n",
      "Epoch 13/50\n",
      "65000/65000 [==============================] - 17s 254us/step - loss: 0.1268 - acc: 0.9523\n",
      "Epoch 14/50\n",
      "65000/65000 [==============================] - 17s 254us/step - loss: 0.1202 - acc: 0.9550\n",
      "Epoch 15/50\n",
      "65000/65000 [==============================] - 16s 246us/step - loss: 0.1146 - acc: 0.9572\n",
      "Epoch 16/50\n",
      "65000/65000 [==============================] - 16s 248us/step - loss: 0.1108 - acc: 0.9588\n",
      "Epoch 17/50\n",
      "65000/65000 [==============================] - 17s 255us/step - loss: 0.1073 - acc: 0.9593\n",
      "Epoch 18/50\n",
      "65000/65000 [==============================] - 17s 257us/step - loss: 0.1014 - acc: 0.9628\n",
      "Epoch 19/50\n",
      "65000/65000 [==============================] - 16s 253us/step - loss: 0.0966 - acc: 0.9637\n",
      "Epoch 20/50\n",
      "65000/65000 [==============================] - 16s 246us/step - loss: 0.0933 - acc: 0.9650\n",
      "Epoch 21/50\n",
      "65000/65000 [==============================] - 16s 250us/step - loss: 0.0944 - acc: 0.9651\n",
      "Epoch 22/50\n",
      "65000/65000 [==============================] - 17s 255us/step - loss: 0.0860 - acc: 0.9679\n",
      "Epoch 23/50\n",
      "65000/65000 [==============================] - 17s 256us/step - loss: 0.0843 - acc: 0.9683\n",
      "Epoch 24/50\n",
      "65000/65000 [==============================] - 16s 251us/step - loss: 0.0867 - acc: 0.9691\n",
      "Epoch 25/50\n",
      "65000/65000 [==============================] - 16s 246us/step - loss: 0.0815 - acc: 0.9701\n",
      "Epoch 26/50\n",
      "65000/65000 [==============================] - 16s 253us/step - loss: 0.0774 - acc: 0.9717\n",
      "Epoch 27/50\n",
      "65000/65000 [==============================] - 17s 256us/step - loss: 0.0757 - acc: 0.9727\n",
      "Epoch 28/50\n",
      "65000/65000 [==============================] - 17s 255us/step - loss: 0.0764 - acc: 0.9732\n",
      "Epoch 29/50\n",
      "65000/65000 [==============================] - 16s 250us/step - loss: 0.0705 - acc: 0.9747\n",
      "Epoch 30/50\n",
      "65000/65000 [==============================] - 16s 244us/step - loss: 0.0714 - acc: 0.9742\n",
      "Epoch 31/50\n",
      "65000/65000 [==============================] - 16s 253us/step - loss: 0.0686 - acc: 0.9763\n",
      "Epoch 32/50\n",
      "65000/65000 [==============================] - 17s 255us/step - loss: 0.0658 - acc: 0.9763\n",
      "Epoch 33/50\n",
      "65000/65000 [==============================] - 17s 254us/step - loss: 0.0663 - acc: 0.9767\n",
      "Epoch 34/50\n",
      "65000/65000 [==============================] - 16s 252us/step - loss: 0.0592 - acc: 0.9792\n",
      "Epoch 35/50\n",
      "65000/65000 [==============================] - 16s 243us/step - loss: 0.0616 - acc: 0.9777\n",
      "Epoch 36/50\n",
      "65000/65000 [==============================] - 16s 242us/step - loss: 0.0602 - acc: 0.9791\n",
      "Epoch 37/50\n",
      "65000/65000 [==============================] - 16s 242us/step - loss: 0.0606 - acc: 0.9785\n",
      "Epoch 38/50\n",
      "65000/65000 [==============================] - 16s 242us/step - loss: 0.0590 - acc: 0.9800\n",
      "Epoch 39/50\n",
      "65000/65000 [==============================] - 16s 241us/step - loss: 0.0553 - acc: 0.9814\n",
      "Epoch 40/50\n",
      "65000/65000 [==============================] - 16s 242us/step - loss: 0.0541 - acc: 0.9815\n",
      "Epoch 41/50\n",
      "65000/65000 [==============================] - 16s 242us/step - loss: 0.0555 - acc: 0.9815\n",
      "Epoch 42/50\n",
      "65000/65000 [==============================] - 16s 242us/step - loss: 0.0530 - acc: 0.9824\n",
      "Epoch 43/50\n",
      "65000/65000 [==============================] - 16s 242us/step - loss: 0.0525 - acc: 0.9824\n",
      "Epoch 44/50\n",
      "65000/65000 [==============================] - 16s 243us/step - loss: 0.0546 - acc: 0.9823\n",
      "Epoch 45/50\n",
      "65000/65000 [==============================] - 16s 242us/step - loss: 0.0516 - acc: 0.9833\n",
      "Epoch 46/50\n",
      "65000/65000 [==============================] - 16s 241us/step - loss: 0.0517 - acc: 0.9836\n",
      "Epoch 47/50\n",
      "65000/65000 [==============================] - 16s 241us/step - loss: 0.0489 - acc: 0.9842\n",
      "Epoch 48/50\n",
      "65000/65000 [==============================] - 16s 241us/step - loss: 0.0469 - acc: 0.9846\n",
      "Epoch 49/50\n",
      "65000/65000 [==============================] - 16s 241us/step - loss: 0.0468 - acc: 0.9847\n",
      "Epoch 50/50\n",
      "65000/65000 [==============================] - 16s 241us/step - loss: 0.0461 - acc: 0.9852\n",
      "13000/13000 [==============================] - 1s 66us/step\n",
      "[0.391475484921382, 0.9267692336669335]\n"
     ]
    }
   ],
   "source": [
    "import numpy as np\n",
    "import tensorflow as tf\n",
    "\n",
    "from keras.utils import np_utils\n",
    "from keras.datasets import mnist\n",
    "from keras.models import Sequential\n",
    "from keras.layers import Dense, Dropout, Activation, Conv2D, MaxPooling2D, Flatten\n",
    "\n",
    "import pandas as pd\n",
    "train = pd.read_csv('../input/train.csv', header = None)\n",
    "\n",
    "y_train = train.iloc[:, 0:1].copy()\n",
    "x_train = train.iloc[:, 1:785].copy()\n",
    "\n",
    "test = pd.read_csv('../input/test.csv', header = None)\n",
    "\n",
    "y_test = test.iloc[:, 0:1].copy()\n",
    "x_test = test.iloc[:, 1:785].copy()\n",
    "\n",
    "y_train = np_utils.to_categorical(y_train)\n",
    "y_test = np_utils.to_categorical(y_test)\n",
    "\n",
    "x_train = x_train.astype('float32')/255.\n",
    "x_test = x_test.astype('float32')/255.\n",
    "\n",
    "\n",
    "x_train = x_train.values.reshape(x_train.shape[0],28,28,1)\n",
    "x_test = x_test.values.reshape(x_test.shape[0],28,28,1)\n",
    "\n",
    "O = 1024\n",
    "P = 512\n",
    "T = 27\n",
    "batch_size = 100\n",
    "learning_rate = 0.001\n",
    "training_epochs = 50\n",
    "\n",
    "model = Sequential()\n",
    "\n",
    "model.add(Conv2D(96, kernel_size=(3, 3),\n",
    "                 activation='relu',\n",
    "                 kernel_initializer='he_normal',\n",
    "                 input_shape=(28,28,1)))\n",
    "model.add(MaxPooling2D((2, 2)))\n",
    "model.add(Dropout(0.3))\n",
    "\n",
    "model.add(Flatten())\n",
    "\n",
    "model.add(Dense(P))\n",
    "model.add(Dropout(rate = 0.3))\n",
    "model.add(Activation('relu'))\n",
    "\n",
    "model.add(Dense(P))\n",
    "model.add(Dropout(rate = 0.3))\n",
    "model.add(Activation('relu'))\n",
    "\n",
    "model.add(Dense(T, activation='softmax'))\n",
    "model.compile(optimizer='adam', loss='categorical_crossentropy', metrics=['accuracy'])\n",
    "history = model.fit(x_train, y_train, epochs=training_epochs, batch_size=batch_size)\n",
    "score = model.evaluate(x_test, y_test, batch_size=batch_size)\n",
    "print(score)"
   ]
  },
  {
   "cell_type": "markdown",
   "metadata": {
    "_uuid": "609aa2a6c8ae38c95da449d275ba555643316326"
   },
   "source": [
    "Результат score = 0.92 получше, чем был\n",
    "\n",
    "Здесь,1м скрытым слоем является сверточный слой с размером ядра 3х3 пикселя. Затем с помощью MaxPolling2D мы уменьшили размерность и сделали дропаут трети нейронов. После, выровняли данные, чтобы пропустить их еще через 2 плотных слоя\n",
    "\n",
    "Идея, связанная с количеством нейронов в слоях та же, что и в сети выше\n",
    "\n",
    "Однако 95% таким образом не выбить. Поэтому мы еще добавили еще слоев"
   ]
  },
  {
   "cell_type": "markdown",
   "metadata": {
    "_uuid": "242f4fd4ab4698c03b62b53e890eff9b47a2e034"
   },
   "source": [
    "# Модель с точностью больше 0.95"
   ]
  },
  {
   "cell_type": "code",
   "execution_count": 1,
   "metadata": {
    "_uuid": "2552dfafe269e6dcb2786ff9f8d1e2de4094a75b"
   },
   "outputs": [
    {
     "name": "stderr",
     "output_type": "stream",
     "text": [
      "Using TensorFlow backend.\n"
     ]
    },
    {
     "name": "stdout",
     "output_type": "stream",
     "text": [
      "Epoch 1/50\n",
      "65000/65000 [==============================] - 17s 262us/step - loss: 1.0358 - acc: 0.6867\n",
      "Epoch 2/50\n",
      "65000/65000 [==============================] - 14s 220us/step - loss: 0.4357 - acc: 0.8590\n",
      "Epoch 3/50\n",
      "65000/65000 [==============================] - 14s 221us/step - loss: 0.3504 - acc: 0.8866\n",
      "Epoch 4/50\n",
      "65000/65000 [==============================] - 14s 222us/step - loss: 0.3039 - acc: 0.8990\n",
      "Epoch 5/50\n",
      "65000/65000 [==============================] - 14s 221us/step - loss: 0.2791 - acc: 0.9069\n",
      "Epoch 6/50\n",
      "65000/65000 [==============================] - 14s 218us/step - loss: 0.2610 - acc: 0.9123\n",
      "Epoch 7/50\n",
      "65000/65000 [==============================] - 14s 213us/step - loss: 0.2480 - acc: 0.9172\n",
      "Epoch 8/50\n",
      "65000/65000 [==============================] - 14s 212us/step - loss: 0.2360 - acc: 0.9194\n",
      "Epoch 9/50\n",
      "65000/65000 [==============================] - 14s 213us/step - loss: 0.2257 - acc: 0.9237\n",
      "Epoch 10/50\n",
      "65000/65000 [==============================] - 14s 212us/step - loss: 0.2154 - acc: 0.9270\n",
      "Epoch 11/50\n",
      "65000/65000 [==============================] - 14s 213us/step - loss: 0.2108 - acc: 0.9270\n",
      "Epoch 12/50\n",
      "65000/65000 [==============================] - 14s 213us/step - loss: 0.2060 - acc: 0.9290\n",
      "Epoch 13/50\n",
      "65000/65000 [==============================] - 14s 212us/step - loss: 0.1992 - acc: 0.9308\n",
      "Epoch 14/50\n",
      "65000/65000 [==============================] - 14s 214us/step - loss: 0.1962 - acc: 0.9320\n",
      "Epoch 15/50\n",
      "65000/65000 [==============================] - 14s 213us/step - loss: 0.1917 - acc: 0.9326\n",
      "Epoch 16/50\n",
      "65000/65000 [==============================] - 14s 212us/step - loss: 0.1863 - acc: 0.9340\n",
      "Epoch 17/50\n",
      "65000/65000 [==============================] - 14s 212us/step - loss: 0.1836 - acc: 0.9351\n",
      "Epoch 18/50\n",
      "65000/65000 [==============================] - 14s 213us/step - loss: 0.1809 - acc: 0.9356\n",
      "Epoch 19/50\n",
      "65000/65000 [==============================] - 14s 213us/step - loss: 0.1750 - acc: 0.9376\n",
      "Epoch 20/50\n",
      "65000/65000 [==============================] - 14s 213us/step - loss: 0.1787 - acc: 0.9367\n",
      "Epoch 21/50\n",
      "65000/65000 [==============================] - 14s 213us/step - loss: 0.1739 - acc: 0.9381\n",
      "Epoch 22/50\n",
      "65000/65000 [==============================] - 14s 213us/step - loss: 0.1688 - acc: 0.9394\n",
      "Epoch 23/50\n",
      "65000/65000 [==============================] - 14s 212us/step - loss: 0.1677 - acc: 0.9395\n",
      "Epoch 24/50\n",
      "65000/65000 [==============================] - 14s 212us/step - loss: 0.1658 - acc: 0.9406\n",
      "Epoch 25/50\n",
      "65000/65000 [==============================] - 14s 213us/step - loss: 0.1610 - acc: 0.9410\n",
      "Epoch 26/50\n",
      "65000/65000 [==============================] - 14s 213us/step - loss: 0.1584 - acc: 0.9421\n",
      "Epoch 27/50\n",
      "65000/65000 [==============================] - 14s 214us/step - loss: 0.1599 - acc: 0.9424\n",
      "Epoch 28/50\n",
      "65000/65000 [==============================] - 14s 215us/step - loss: 0.1578 - acc: 0.9426\n",
      "Epoch 29/50\n",
      "65000/65000 [==============================] - 14s 215us/step - loss: 0.1544 - acc: 0.9437\n",
      "Epoch 30/50\n",
      "65000/65000 [==============================] - 14s 214us/step - loss: 0.1548 - acc: 0.9429\n",
      "Epoch 31/50\n",
      "65000/65000 [==============================] - 14s 212us/step - loss: 0.1554 - acc: 0.9446\n",
      "Epoch 32/50\n",
      "65000/65000 [==============================] - 14s 213us/step - loss: 0.1518 - acc: 0.9442\n",
      "Epoch 33/50\n",
      "65000/65000 [==============================] - 14s 214us/step - loss: 0.1517 - acc: 0.9435\n",
      "Epoch 34/50\n",
      "65000/65000 [==============================] - 14s 212us/step - loss: 0.1491 - acc: 0.9447\n",
      "Epoch 35/50\n",
      "65000/65000 [==============================] - 14s 213us/step - loss: 0.1482 - acc: 0.9458\n",
      "Epoch 36/50\n",
      "65000/65000 [==============================] - 14s 213us/step - loss: 0.1474 - acc: 0.9458\n",
      "Epoch 37/50\n",
      "65000/65000 [==============================] - 14s 213us/step - loss: 0.1454 - acc: 0.9457\n",
      "Epoch 38/50\n",
      "65000/65000 [==============================] - 14s 212us/step - loss: 0.1448 - acc: 0.9460\n",
      "Epoch 39/50\n",
      "65000/65000 [==============================] - 14s 211us/step - loss: 0.1425 - acc: 0.9462\n",
      "Epoch 40/50\n",
      "65000/65000 [==============================] - 14s 213us/step - loss: 0.1438 - acc: 0.9464\n",
      "Epoch 41/50\n",
      "65000/65000 [==============================] - 14s 213us/step - loss: 0.1396 - acc: 0.9475\n",
      "Epoch 42/50\n",
      "65000/65000 [==============================] - 14s 213us/step - loss: 0.1404 - acc: 0.9474\n",
      "Epoch 43/50\n",
      "65000/65000 [==============================] - 14s 212us/step - loss: 0.1391 - acc: 0.9474\n",
      "Epoch 44/50\n",
      "65000/65000 [==============================] - 14s 213us/step - loss: 0.1388 - acc: 0.9487\n",
      "Epoch 45/50\n",
      "65000/65000 [==============================] - 14s 212us/step - loss: 0.1358 - acc: 0.9481\n",
      "Epoch 46/50\n",
      "65000/65000 [==============================] - 14s 213us/step - loss: 0.1354 - acc: 0.9490\n",
      "Epoch 47/50\n",
      "65000/65000 [==============================] - 14s 212us/step - loss: 0.1385 - acc: 0.9481\n",
      "Epoch 48/50\n",
      "65000/65000 [==============================] - 14s 213us/step - loss: 0.1352 - acc: 0.9491\n",
      "Epoch 49/50\n",
      "65000/65000 [==============================] - 14s 213us/step - loss: 0.1326 - acc: 0.9493\n",
      "Epoch 50/50\n",
      "65000/65000 [==============================] - 14s 213us/step - loss: 0.1345 - acc: 0.9490\n",
      "13000/13000 [==============================] - 1s 61us/step\n",
      "[0.15239757174769272, 0.9502307717616741]\n"
     ]
    }
   ],
   "source": [
    "import numpy as np\n",
    "import tensorflow as tf\n",
    "import keras\n",
    "from keras.utils import np_utils\n",
    "from keras.datasets import mnist\n",
    "from keras.models import Sequential\n",
    "from keras.layers import Dense, Dropout, Activation, Conv2D, MaxPooling2D, Flatten\n",
    "\n",
    "import pandas as pd\n",
    "train = pd.read_csv('../input/train.csv', header = None)\n",
    "\n",
    "y_train = train.iloc[:, 0:1].copy()\n",
    "x_train = train.iloc[:, 1:785].copy()\n",
    "\n",
    "test = pd.read_csv('../input/test.csv', header = None)\n",
    "\n",
    "y_test = test.iloc[:, 0:1].copy()\n",
    "x_test = test.iloc[:, 1:785].copy()\n",
    "\n",
    "y_train = np_utils.to_categorical(y_train)\n",
    "y_test = np_utils.to_categorical(y_test)\n",
    "\n",
    "x_train = x_train.astype('float32')/255.\n",
    "x_test = x_test.astype('float32')/255.\n",
    "\n",
    "x_train = x_train.values.reshape(x_train.shape[0],28,28,1)\n",
    "x_test = x_test.values.reshape(x_test.shape[0],28,28,1)\n",
    "\n",
    "batch_size = 100\n",
    "learning_rate = 0.001\n",
    "training_epochs = 50\n",
    "\n",
    "from keras.callbacks import TensorBoard\n",
    "tensorboard = TensorBoard(log_dir = './logs', write_graph = True)\n",
    "\n",
    "model = Sequential()\n",
    "model.add(Conv2D(96, kernel_size=(3, 3),\n",
    "                 activation='relu',\n",
    "                 kernel_initializer='he_normal',\n",
    "                 input_shape=(28,28,1)))\n",
    "model.add(MaxPooling2D(pool_size=(2, 2)))\n",
    "model.add(Dropout(0.3))\n",
    "model.add(Conv2D(96, kernel_size=(3, 3), activation='relu'))\n",
    "model.add(MaxPooling2D(pool_size=(2, 2)))\n",
    "model.add(Dropout(0.3))\n",
    "model.add(Conv2D(128, kernel_size=(3, 3), activation='relu'))\n",
    "model.add(Dropout(0.4))\n",
    "model.add(Flatten())\n",
    "model.add(Dense(128, activation='relu'))\n",
    "model.add(Dropout(0.3))\n",
    "model.add(Dense(27, activation='softmax'))\n",
    "\n",
    "model.compile(loss=keras.losses.categorical_crossentropy,\n",
    "              optimizer=keras.optimizers.Adam(lr=learning_rate, amsgrad=True),\n",
    "              metrics=['accuracy'])\n",
    "\n",
    "history = model.fit(x_train, y_train, epochs=training_epochs, batch_size=batch_size, callbacks = [tensorboard])\n",
    "\n",
    "score = model.evaluate(x_test, y_test, batch_size=batch_size)\n",
    "print(score)"
   ]
  },
  {
   "cell_type": "markdown",
   "metadata": {
    "_uuid": "950f5459acbec91f9b77dbe178deb03bc5b51f75"
   },
   "source": [
    "Через раз модель то обучается до 0.95, то остается на 0.9495-0.9499. Ниже приведен код для \"дообучения\" до 0.95 на тестовых данных\n"
   ]
  },
  {
   "cell_type": "code",
   "execution_count": 2,
   "metadata": {
    "_uuid": "49fc8fecd6718ae2a4c81a67753b9b4b5505e20e"
   },
   "outputs": [
    {
     "name": "stdout",
     "output_type": "stream",
     "text": [
      "[0.15239757174769272, 0.9502307717616741]\n"
     ]
    }
   ],
   "source": [
    "while(score[1]<0.95):\n",
    "    history = model.fit(x_train, y_train,\n",
    "    batch_size=batch_size,\n",
    "    epochs=1,\n",
    "    verbose=0,\n",
    "    callbacks = [tensorboard])\n",
    "    score = model.evaluate(x_test, y_test, verbose=0)\n",
    "print(score)"
   ]
  },
  {
   "cell_type": "markdown",
   "metadata": {
    "_uuid": "e5e2786badece5ea1228a21a7f35a55532a6e9ba"
   },
   "source": [
    "Воспользуемся колбеком tensorboard, чтобы посмотреть как росла accuracy и падала loss:"
   ]
  },
  {
   "cell_type": "code",
   "execution_count": null,
   "metadata": {
    "_uuid": "143ab71322653837bcde6e6cdb938fcc39ebac51"
   },
   "outputs": [],
   "source": [
    "!tensorboard --logdir=./logs"
   ]
  },
  {
   "cell_type": "code",
   "execution_count": 3,
   "metadata": {
    "_uuid": "e8f17c06bf35e87b4cb26335585d5e209bda710e"
   },
   "outputs": [
    {
     "data": {
      "image/png": "[encoded data removed]",
      "text/plain": [
       "<Figure size 432x288 with 1 Axes>"
      ]
     },
     "metadata": {},
     "output_type": "display_data"
    }
   ],
   "source": [
    "import matplotlib.pyplot as plt\n",
    "plt.plot(history.history['loss'], color='r', label= \"validation loss\")\n",
    "plt.title(\"Test Loss\")\n",
    "plt.xlabel(\"Number of epochs\")\n",
    "plt.ylabel(\"Loss\")\n",
    "plt.legend()\n",
    "plt.show()\n",
    "\n"
   ]
  },
  {
   "cell_type": "code",
   "execution_count": 4,
   "metadata": {
    "_uuid": "62fa45ae4eb8ccfe6e376d5275784864874798f8"
   },
   "outputs": [
    {
     "data": {
      "image/png": "[encoded data removed]",
      "text/plain": [
       "<Figure size 432x288 with 1 Axes>"
      ]
     },
     "metadata": {},
     "output_type": "display_data"
    }
   ],
   "source": [
    "plt.plot(history.history['acc'], color='b', label= \"validation accuracy\")\n",
    "plt.title(\"Test Accuracy\")\n",
    "plt.xlabel(\"Number of epochs\")\n",
    "plt.ylabel(\"Accuracy\")\n",
    "plt.legend()\n",
    "plt.show()\n",
    "\n"
   ]
  },
  {
   "cell_type": "markdown",
   "metadata": {
    "_uuid": "a5da6bd439270ee5feef3cba642cc9117d21b04a"
   },
   "source": [
    "Исходя из результатов именно эта модель выбрана лучшей и продолжать работать мы будем с ней.\n",
    "\n",
    "Построим схему нейронки с помощью модуля SVG:"
   ]
  },
  {
   "cell_type": "code",
   "execution_count": 5,
   "metadata": {
    "_uuid": "5e0c4f8c50bab53965c16c33bb6debbacdf2201d"
   },
   "outputs": [
    {
     "data": {
      "image/svg+xml": [
       "<svg height=\"1401pt\" viewBox=\"0.00 0.00 388.00 1051.00\" width=\"517pt\" xmlns=\"http://www.w3.org/2000/svg\" xmlns:xlink=\"http://www.w3.org/1999/xlink\">\n",
       "<g class=\"graph\" id=\"graph0\" transform=\"scale(1.33333 1.33333) rotate(0) translate(4 1047)\">\n",
       "<title>G</title>\n",
       "<polygon fill=\"white\" points=\"-4,4 -4,-1047 384,-1047 384,4 -4,4\" stroke=\"none\"/>\n",
       "<!-- 140623540631760 -->\n",
       "<g class=\"node\" id=\"node1\"><title>140623540631760</title>\n",
       "<polygon fill=\"none\" points=\"21,-996.5 21,-1042.5 359,-1042.5 359,-996.5 21,-996.5\" stroke=\"black\"/>\n",
       "<text font-family=\"Times,serif\" font-size=\"14.00\" text-anchor=\"middle\" x=\"107\" y=\"-1015.8\">conv2d_1_input: InputLayer</text>\n",
       "<polyline fill=\"none\" points=\"193,-996.5 193,-1042.5 \" stroke=\"black\"/>\n",
       "<text font-family=\"Times,serif\" font-size=\"14.00\" text-anchor=\"middle\" x=\"220.5\" y=\"-1027.3\">input:</text>\n",
       "<polyline fill=\"none\" points=\"193,-1019.5 248,-1019.5 \" stroke=\"black\"/>\n",
       "<text font-family=\"Times,serif\" font-size=\"14.00\" text-anchor=\"middle\" x=\"220.5\" y=\"-1004.3\">output:</text>\n",
       "<polyline fill=\"none\" points=\"248,-996.5 248,-1042.5 \" stroke=\"black\"/>\n",
       "<text font-family=\"Times,serif\" font-size=\"14.00\" text-anchor=\"middle\" x=\"303.5\" y=\"-1027.3\">(None, 28, 28, 1)</text>\n",
       "<polyline fill=\"none\" points=\"248,-1019.5 359,-1019.5 \" stroke=\"black\"/>\n",
       "<text font-family=\"Times,serif\" font-size=\"14.00\" text-anchor=\"middle\" x=\"303.5\" y=\"-1004.3\">(None, 28, 28, 1)</text>\n",
       "</g>\n",
       "<!-- 140624852559688 -->\n",
       "<g class=\"node\" id=\"node2\"><title>140624852559688</title>\n",
       "<polygon fill=\"none\" points=\"42,-913.5 42,-959.5 338,-959.5 338,-913.5 42,-913.5\" stroke=\"black\"/>\n",
       "<text font-family=\"Times,serif\" font-size=\"14.00\" text-anchor=\"middle\" x=\"103.5\" y=\"-932.8\">conv2d_1: Conv2D</text>\n",
       "<polyline fill=\"none\" points=\"165,-913.5 165,-959.5 \" stroke=\"black\"/>\n",
       "<text font-family=\"Times,serif\" font-size=\"14.00\" text-anchor=\"middle\" x=\"192.5\" y=\"-944.3\">input:</text>\n",
       "<polyline fill=\"none\" points=\"165,-936.5 220,-936.5 \" stroke=\"black\"/>\n",
       "<text font-family=\"Times,serif\" font-size=\"14.00\" text-anchor=\"middle\" x=\"192.5\" y=\"-921.3\">output:</text>\n",
       "<polyline fill=\"none\" points=\"220,-913.5 220,-959.5 \" stroke=\"black\"/>\n",
       "<text font-family=\"Times,serif\" font-size=\"14.00\" text-anchor=\"middle\" x=\"279\" y=\"-944.3\">(None, 28, 28, 1)</text>\n",
       "<polyline fill=\"none\" points=\"220,-936.5 338,-936.5 \" stroke=\"black\"/>\n",
       "<text font-family=\"Times,serif\" font-size=\"14.00\" text-anchor=\"middle\" x=\"279\" y=\"-921.3\">(None, 26, 26, 96)</text>\n",
       "</g>\n",
       "<!-- 140623540631760&#45;&gt;140624852559688 -->\n",
       "<g class=\"edge\" id=\"edge1\"><title>140623540631760-&gt;140624852559688</title>\n",
       "<path d=\"M190,-996.366C190,-988.152 190,-978.658 190,-969.725\" fill=\"none\" stroke=\"black\"/>\n",
       "<polygon fill=\"black\" points=\"193.5,-969.607 190,-959.607 186.5,-969.607 193.5,-969.607\" stroke=\"black\"/>\n",
       "</g>\n",
       "<!-- 140623540632040 -->\n",
       "<g class=\"node\" id=\"node3\"><title>140623540632040</title>\n",
       "<polygon fill=\"none\" points=\"0,-830.5 0,-876.5 380,-876.5 380,-830.5 0,-830.5\" stroke=\"black\"/>\n",
       "<text font-family=\"Times,serif\" font-size=\"14.00\" text-anchor=\"middle\" x=\"103.5\" y=\"-849.8\">max_pooling2d_1: MaxPooling2D</text>\n",
       "<polyline fill=\"none\" points=\"207,-830.5 207,-876.5 \" stroke=\"black\"/>\n",
       "<text font-family=\"Times,serif\" font-size=\"14.00\" text-anchor=\"middle\" x=\"234.5\" y=\"-861.3\">input:</text>\n",
       "<polyline fill=\"none\" points=\"207,-853.5 262,-853.5 \" stroke=\"black\"/>\n",
       "<text font-family=\"Times,serif\" font-size=\"14.00\" text-anchor=\"middle\" x=\"234.5\" y=\"-838.3\">output:</text>\n",
       "<polyline fill=\"none\" points=\"262,-830.5 262,-876.5 \" stroke=\"black\"/>\n",
       "<text font-family=\"Times,serif\" font-size=\"14.00\" text-anchor=\"middle\" x=\"321\" y=\"-861.3\">(None, 26, 26, 96)</text>\n",
       "<polyline fill=\"none\" points=\"262,-853.5 380,-853.5 \" stroke=\"black\"/>\n",
       "<text font-family=\"Times,serif\" font-size=\"14.00\" text-anchor=\"middle\" x=\"321\" y=\"-838.3\">(None, 13, 13, 96)</text>\n",
       "</g>\n",
       "<!-- 140624852559688&#45;&gt;140623540632040 -->\n",
       "<g class=\"edge\" id=\"edge2\"><title>140624852559688-&gt;140623540632040</title>\n",
       "<path d=\"M190,-913.366C190,-905.152 190,-895.658 190,-886.725\" fill=\"none\" stroke=\"black\"/>\n",
       "<polygon fill=\"black\" points=\"193.5,-886.607 190,-876.607 186.5,-886.607 193.5,-886.607\" stroke=\"black\"/>\n",
       "</g>\n",
       "<!-- 140624248319560 -->\n",
       "<g class=\"node\" id=\"node4\"><title>140624248319560</title>\n",
       "<polygon fill=\"none\" points=\"41,-747.5 41,-793.5 339,-793.5 339,-747.5 41,-747.5\" stroke=\"black\"/>\n",
       "<text font-family=\"Times,serif\" font-size=\"14.00\" text-anchor=\"middle\" x=\"103.5\" y=\"-766.8\">dropout_1: Dropout</text>\n",
       "<polyline fill=\"none\" points=\"166,-747.5 166,-793.5 \" stroke=\"black\"/>\n",
       "<text font-family=\"Times,serif\" font-size=\"14.00\" text-anchor=\"middle\" x=\"193.5\" y=\"-778.3\">input:</text>\n",
       "<polyline fill=\"none\" points=\"166,-770.5 221,-770.5 \" stroke=\"black\"/>\n",
       "<text font-family=\"Times,serif\" font-size=\"14.00\" text-anchor=\"middle\" x=\"193.5\" y=\"-755.3\">output:</text>\n",
       "<polyline fill=\"none\" points=\"221,-747.5 221,-793.5 \" stroke=\"black\"/>\n",
       "<text font-family=\"Times,serif\" font-size=\"14.00\" text-anchor=\"middle\" x=\"280\" y=\"-778.3\">(None, 13, 13, 96)</text>\n",
       "<polyline fill=\"none\" points=\"221,-770.5 339,-770.5 \" stroke=\"black\"/>\n",
       "<text font-family=\"Times,serif\" font-size=\"14.00\" text-anchor=\"middle\" x=\"280\" y=\"-755.3\">(None, 13, 13, 96)</text>\n",
       "</g>\n",
       "<!-- 140623540632040&#45;&gt;140624248319560 -->\n",
       "<g class=\"edge\" id=\"edge3\"><title>140623540632040-&gt;140624248319560</title>\n",
       "<path d=\"M190,-830.366C190,-822.152 190,-812.658 190,-803.725\" fill=\"none\" stroke=\"black\"/>\n",
       "<polygon fill=\"black\" points=\"193.5,-803.607 190,-793.607 186.5,-803.607 193.5,-803.607\" stroke=\"black\"/>\n",
       "</g>\n",
       "<!-- 140623531859696 -->\n",
       "<g class=\"node\" id=\"node5\"><title>140623531859696</title>\n",
       "<polygon fill=\"none\" points=\"42,-664.5 42,-710.5 338,-710.5 338,-664.5 42,-664.5\" stroke=\"black\"/>\n",
       "<text font-family=\"Times,serif\" font-size=\"14.00\" text-anchor=\"middle\" x=\"103.5\" y=\"-683.8\">conv2d_2: Conv2D</text>\n",
       "<polyline fill=\"none\" points=\"165,-664.5 165,-710.5 \" stroke=\"black\"/>\n",
       "<text font-family=\"Times,serif\" font-size=\"14.00\" text-anchor=\"middle\" x=\"192.5\" y=\"-695.3\">input:</text>\n",
       "<polyline fill=\"none\" points=\"165,-687.5 220,-687.5 \" stroke=\"black\"/>\n",
       "<text font-family=\"Times,serif\" font-size=\"14.00\" text-anchor=\"middle\" x=\"192.5\" y=\"-672.3\">output:</text>\n",
       "<polyline fill=\"none\" points=\"220,-664.5 220,-710.5 \" stroke=\"black\"/>\n",
       "<text font-family=\"Times,serif\" font-size=\"14.00\" text-anchor=\"middle\" x=\"279\" y=\"-695.3\">(None, 13, 13, 96)</text>\n",
       "<polyline fill=\"none\" points=\"220,-687.5 338,-687.5 \" stroke=\"black\"/>\n",
       "<text font-family=\"Times,serif\" font-size=\"14.00\" text-anchor=\"middle\" x=\"279\" y=\"-672.3\">(None, 11, 11, 96)</text>\n",
       "</g>\n",
       "<!-- 140624248319560&#45;&gt;140623531859696 -->\n",
       "<g class=\"edge\" id=\"edge4\"><title>140624248319560-&gt;140623531859696</title>\n",
       "<path d=\"M190,-747.366C190,-739.152 190,-729.658 190,-720.725\" fill=\"none\" stroke=\"black\"/>\n",
       "<polygon fill=\"black\" points=\"193.5,-720.607 190,-710.607 186.5,-720.607 193.5,-720.607\" stroke=\"black\"/>\n",
       "</g>\n",
       "<!-- 140623531988920 -->\n",
       "<g class=\"node\" id=\"node6\"><title>140623531988920</title>\n",
       "<polygon fill=\"none\" points=\"0,-581.5 0,-627.5 380,-627.5 380,-581.5 0,-581.5\" stroke=\"black\"/>\n",
       "<text font-family=\"Times,serif\" font-size=\"14.00\" text-anchor=\"middle\" x=\"103.5\" y=\"-600.8\">max_pooling2d_2: MaxPooling2D</text>\n",
       "<polyline fill=\"none\" points=\"207,-581.5 207,-627.5 \" stroke=\"black\"/>\n",
       "<text font-family=\"Times,serif\" font-size=\"14.00\" text-anchor=\"middle\" x=\"234.5\" y=\"-612.3\">input:</text>\n",
       "<polyline fill=\"none\" points=\"207,-604.5 262,-604.5 \" stroke=\"black\"/>\n",
       "<text font-family=\"Times,serif\" font-size=\"14.00\" text-anchor=\"middle\" x=\"234.5\" y=\"-589.3\">output:</text>\n",
       "<polyline fill=\"none\" points=\"262,-581.5 262,-627.5 \" stroke=\"black\"/>\n",
       "<text font-family=\"Times,serif\" font-size=\"14.00\" text-anchor=\"middle\" x=\"321\" y=\"-612.3\">(None, 11, 11, 96)</text>\n",
       "<polyline fill=\"none\" points=\"262,-604.5 380,-604.5 \" stroke=\"black\"/>\n",
       "<text font-family=\"Times,serif\" font-size=\"14.00\" text-anchor=\"middle\" x=\"321\" y=\"-589.3\">(None, 5, 5, 96)</text>\n",
       "</g>\n",
       "<!-- 140623531859696&#45;&gt;140623531988920 -->\n",
       "<g class=\"edge\" id=\"edge5\"><title>140623531859696-&gt;140623531988920</title>\n",
       "<path d=\"M190,-664.366C190,-656.152 190,-646.658 190,-637.725\" fill=\"none\" stroke=\"black\"/>\n",
       "<polygon fill=\"black\" points=\"193.5,-637.607 190,-627.607 186.5,-637.607 193.5,-637.607\" stroke=\"black\"/>\n",
       "</g>\n",
       "<!-- 140623540632320 -->\n",
       "<g class=\"node\" id=\"node7\"><title>140623540632320</title>\n",
       "<polygon fill=\"none\" points=\"48,-498.5 48,-544.5 332,-544.5 332,-498.5 48,-498.5\" stroke=\"black\"/>\n",
       "<text font-family=\"Times,serif\" font-size=\"14.00\" text-anchor=\"middle\" x=\"110.5\" y=\"-517.8\">dropout_2: Dropout</text>\n",
       "<polyline fill=\"none\" points=\"173,-498.5 173,-544.5 \" stroke=\"black\"/>\n",
       "<text font-family=\"Times,serif\" font-size=\"14.00\" text-anchor=\"middle\" x=\"200.5\" y=\"-529.3\">input:</text>\n",
       "<polyline fill=\"none\" points=\"173,-521.5 228,-521.5 \" stroke=\"black\"/>\n",
       "<text font-family=\"Times,serif\" font-size=\"14.00\" text-anchor=\"middle\" x=\"200.5\" y=\"-506.3\">output:</text>\n",
       "<polyline fill=\"none\" points=\"228,-498.5 228,-544.5 \" stroke=\"black\"/>\n",
       "<text font-family=\"Times,serif\" font-size=\"14.00\" text-anchor=\"middle\" x=\"280\" y=\"-529.3\">(None, 5, 5, 96)</text>\n",
       "<polyline fill=\"none\" points=\"228,-521.5 332,-521.5 \" stroke=\"black\"/>\n",
       "<text font-family=\"Times,serif\" font-size=\"14.00\" text-anchor=\"middle\" x=\"280\" y=\"-506.3\">(None, 5, 5, 96)</text>\n",
       "</g>\n",
       "<!-- 140623531988920&#45;&gt;140623540632320 -->\n",
       "<g class=\"edge\" id=\"edge6\"><title>140623531988920-&gt;140623540632320</title>\n",
       "<path d=\"M190,-581.366C190,-573.152 190,-563.658 190,-554.725\" fill=\"none\" stroke=\"black\"/>\n",
       "<polygon fill=\"black\" points=\"193.5,-554.607 190,-544.607 186.5,-554.607 193.5,-554.607\" stroke=\"black\"/>\n",
       "</g>\n",
       "<!-- 140623531989032 -->\n",
       "<g class=\"node\" id=\"node8\"><title>140623531989032</title>\n",
       "<polygon fill=\"none\" points=\"45.5,-415.5 45.5,-461.5 334.5,-461.5 334.5,-415.5 45.5,-415.5\" stroke=\"black\"/>\n",
       "<text font-family=\"Times,serif\" font-size=\"14.00\" text-anchor=\"middle\" x=\"107\" y=\"-434.8\">conv2d_3: Conv2D</text>\n",
       "<polyline fill=\"none\" points=\"168.5,-415.5 168.5,-461.5 \" stroke=\"black\"/>\n",
       "<text font-family=\"Times,serif\" font-size=\"14.00\" text-anchor=\"middle\" x=\"196\" y=\"-446.3\">input:</text>\n",
       "<polyline fill=\"none\" points=\"168.5,-438.5 223.5,-438.5 \" stroke=\"black\"/>\n",
       "<text font-family=\"Times,serif\" font-size=\"14.00\" text-anchor=\"middle\" x=\"196\" y=\"-423.3\">output:</text>\n",
       "<polyline fill=\"none\" points=\"223.5,-415.5 223.5,-461.5 \" stroke=\"black\"/>\n",
       "<text font-family=\"Times,serif\" font-size=\"14.00\" text-anchor=\"middle\" x=\"279\" y=\"-446.3\">(None, 5, 5, 96)</text>\n",
       "<polyline fill=\"none\" points=\"223.5,-438.5 334.5,-438.5 \" stroke=\"black\"/>\n",
       "<text font-family=\"Times,serif\" font-size=\"14.00\" text-anchor=\"middle\" x=\"279\" y=\"-423.3\">(None, 3, 3, 128)</text>\n",
       "</g>\n",
       "<!-- 140623540632320&#45;&gt;140623531989032 -->\n",
       "<g class=\"edge\" id=\"edge7\"><title>140623540632320-&gt;140623531989032</title>\n",
       "<path d=\"M190,-498.366C190,-490.152 190,-480.658 190,-471.725\" fill=\"none\" stroke=\"black\"/>\n",
       "<polygon fill=\"black\" points=\"193.5,-471.607 190,-461.607 186.5,-471.607 193.5,-471.607\" stroke=\"black\"/>\n",
       "</g>\n",
       "<!-- 140623531988360 -->\n",
       "<g class=\"node\" id=\"node9\"><title>140623531988360</title>\n",
       "<polygon fill=\"none\" points=\"44.5,-332.5 44.5,-378.5 335.5,-378.5 335.5,-332.5 44.5,-332.5\" stroke=\"black\"/>\n",
       "<text font-family=\"Times,serif\" font-size=\"14.00\" text-anchor=\"middle\" x=\"107\" y=\"-351.8\">dropout_3: Dropout</text>\n",
       "<polyline fill=\"none\" points=\"169.5,-332.5 169.5,-378.5 \" stroke=\"black\"/>\n",
       "<text font-family=\"Times,serif\" font-size=\"14.00\" text-anchor=\"middle\" x=\"197\" y=\"-363.3\">input:</text>\n",
       "<polyline fill=\"none\" points=\"169.5,-355.5 224.5,-355.5 \" stroke=\"black\"/>\n",
       "<text font-family=\"Times,serif\" font-size=\"14.00\" text-anchor=\"middle\" x=\"197\" y=\"-340.3\">output:</text>\n",
       "<polyline fill=\"none\" points=\"224.5,-332.5 224.5,-378.5 \" stroke=\"black\"/>\n",
       "<text font-family=\"Times,serif\" font-size=\"14.00\" text-anchor=\"middle\" x=\"280\" y=\"-363.3\">(None, 3, 3, 128)</text>\n",
       "<polyline fill=\"none\" points=\"224.5,-355.5 335.5,-355.5 \" stroke=\"black\"/>\n",
       "<text font-family=\"Times,serif\" font-size=\"14.00\" text-anchor=\"middle\" x=\"280\" y=\"-340.3\">(None, 3, 3, 128)</text>\n",
       "</g>\n",
       "<!-- 140623531989032&#45;&gt;140623531988360 -->\n",
       "<g class=\"edge\" id=\"edge8\"><title>140623531989032-&gt;140623531988360</title>\n",
       "<path d=\"M190,-415.366C190,-407.152 190,-397.658 190,-388.725\" fill=\"none\" stroke=\"black\"/>\n",
       "<polygon fill=\"black\" points=\"193.5,-388.607 190,-378.607 186.5,-388.607 193.5,-388.607\" stroke=\"black\"/>\n",
       "</g>\n",
       "<!-- 140623531286480 -->\n",
       "<g class=\"node\" id=\"node10\"><title>140623531286480</title>\n",
       "<polygon fill=\"none\" points=\"52,-249.5 52,-295.5 328,-295.5 328,-249.5 52,-249.5\" stroke=\"black\"/>\n",
       "<text font-family=\"Times,serif\" font-size=\"14.00\" text-anchor=\"middle\" x=\"107\" y=\"-268.8\">flatten_1: Flatten</text>\n",
       "<polyline fill=\"none\" points=\"162,-249.5 162,-295.5 \" stroke=\"black\"/>\n",
       "<text font-family=\"Times,serif\" font-size=\"14.00\" text-anchor=\"middle\" x=\"189.5\" y=\"-280.3\">input:</text>\n",
       "<polyline fill=\"none\" points=\"162,-272.5 217,-272.5 \" stroke=\"black\"/>\n",
       "<text font-family=\"Times,serif\" font-size=\"14.00\" text-anchor=\"middle\" x=\"189.5\" y=\"-257.3\">output:</text>\n",
       "<polyline fill=\"none\" points=\"217,-249.5 217,-295.5 \" stroke=\"black\"/>\n",
       "<text font-family=\"Times,serif\" font-size=\"14.00\" text-anchor=\"middle\" x=\"272.5\" y=\"-280.3\">(None, 3, 3, 128)</text>\n",
       "<polyline fill=\"none\" points=\"217,-272.5 328,-272.5 \" stroke=\"black\"/>\n",
       "<text font-family=\"Times,serif\" font-size=\"14.00\" text-anchor=\"middle\" x=\"272.5\" y=\"-257.3\">(None, 1152)</text>\n",
       "</g>\n",
       "<!-- 140623531988360&#45;&gt;140623531286480 -->\n",
       "<g class=\"edge\" id=\"edge9\"><title>140623531988360-&gt;140623531286480</title>\n",
       "<path d=\"M190,-332.366C190,-324.152 190,-314.658 190,-305.725\" fill=\"none\" stroke=\"black\"/>\n",
       "<polygon fill=\"black\" points=\"193.5,-305.607 190,-295.607 186.5,-305.607 193.5,-305.607\" stroke=\"black\"/>\n",
       "</g>\n",
       "<!-- 140623531393880 -->\n",
       "<g class=\"node\" id=\"node11\"><title>140623531393880</title>\n",
       "<polygon fill=\"none\" points=\"67,-166.5 67,-212.5 313,-212.5 313,-166.5 67,-166.5\" stroke=\"black\"/>\n",
       "<text font-family=\"Times,serif\" font-size=\"14.00\" text-anchor=\"middle\" x=\"118\" y=\"-185.8\">dense_1: Dense</text>\n",
       "<polyline fill=\"none\" points=\"169,-166.5 169,-212.5 \" stroke=\"black\"/>\n",
       "<text font-family=\"Times,serif\" font-size=\"14.00\" text-anchor=\"middle\" x=\"196.5\" y=\"-197.3\">input:</text>\n",
       "<polyline fill=\"none\" points=\"169,-189.5 224,-189.5 \" stroke=\"black\"/>\n",
       "<text font-family=\"Times,serif\" font-size=\"14.00\" text-anchor=\"middle\" x=\"196.5\" y=\"-174.3\">output:</text>\n",
       "<polyline fill=\"none\" points=\"224,-166.5 224,-212.5 \" stroke=\"black\"/>\n",
       "<text font-family=\"Times,serif\" font-size=\"14.00\" text-anchor=\"middle\" x=\"268.5\" y=\"-197.3\">(None, 1152)</text>\n",
       "<polyline fill=\"none\" points=\"224,-189.5 313,-189.5 \" stroke=\"black\"/>\n",
       "<text font-family=\"Times,serif\" font-size=\"14.00\" text-anchor=\"middle\" x=\"268.5\" y=\"-174.3\">(None, 128)</text>\n",
       "</g>\n",
       "<!-- 140623531286480&#45;&gt;140623531393880 -->\n",
       "<g class=\"edge\" id=\"edge10\"><title>140623531286480-&gt;140623531393880</title>\n",
       "<path d=\"M190,-249.366C190,-241.152 190,-231.658 190,-222.725\" fill=\"none\" stroke=\"black\"/>\n",
       "<polygon fill=\"black\" points=\"193.5,-222.607 190,-212.607 186.5,-222.607 193.5,-222.607\" stroke=\"black\"/>\n",
       "</g>\n",
       "<!-- 140623531514512 -->\n",
       "<g class=\"node\" id=\"node12\"><title>140623531514512</title>\n",
       "<polygon fill=\"none\" points=\"58.5,-83.5 58.5,-129.5 321.5,-129.5 321.5,-83.5 58.5,-83.5\" stroke=\"black\"/>\n",
       "<text font-family=\"Times,serif\" font-size=\"14.00\" text-anchor=\"middle\" x=\"121\" y=\"-102.8\">dropout_4: Dropout</text>\n",
       "<polyline fill=\"none\" points=\"183.5,-83.5 183.5,-129.5 \" stroke=\"black\"/>\n",
       "<text font-family=\"Times,serif\" font-size=\"14.00\" text-anchor=\"middle\" x=\"211\" y=\"-114.3\">input:</text>\n",
       "<polyline fill=\"none\" points=\"183.5,-106.5 238.5,-106.5 \" stroke=\"black\"/>\n",
       "<text font-family=\"Times,serif\" font-size=\"14.00\" text-anchor=\"middle\" x=\"211\" y=\"-91.3\">output:</text>\n",
       "<polyline fill=\"none\" points=\"238.5,-83.5 238.5,-129.5 \" stroke=\"black\"/>\n",
       "<text font-family=\"Times,serif\" font-size=\"14.00\" text-anchor=\"middle\" x=\"280\" y=\"-114.3\">(None, 128)</text>\n",
       "<polyline fill=\"none\" points=\"238.5,-106.5 321.5,-106.5 \" stroke=\"black\"/>\n",
       "<text font-family=\"Times,serif\" font-size=\"14.00\" text-anchor=\"middle\" x=\"280\" y=\"-91.3\">(None, 128)</text>\n",
       "</g>\n",
       "<!-- 140623531393880&#45;&gt;140623531514512 -->\n",
       "<g class=\"edge\" id=\"edge11\"><title>140623531393880-&gt;140623531514512</title>\n",
       "<path d=\"M190,-166.366C190,-158.152 190,-148.658 190,-139.725\" fill=\"none\" stroke=\"black\"/>\n",
       "<polygon fill=\"black\" points=\"193.5,-139.607 190,-129.607 186.5,-139.607 193.5,-139.607\" stroke=\"black\"/>\n",
       "</g>\n",
       "<!-- 140623531265496 -->\n",
       "<g class=\"node\" id=\"node13\"><title>140623531265496</title>\n",
       "<polygon fill=\"none\" points=\"70,-0.5 70,-46.5 310,-46.5 310,-0.5 70,-0.5\" stroke=\"black\"/>\n",
       "<text font-family=\"Times,serif\" font-size=\"14.00\" text-anchor=\"middle\" x=\"121\" y=\"-19.8\">dense_2: Dense</text>\n",
       "<polyline fill=\"none\" points=\"172,-0.5 172,-46.5 \" stroke=\"black\"/>\n",
       "<text font-family=\"Times,serif\" font-size=\"14.00\" text-anchor=\"middle\" x=\"199.5\" y=\"-31.3\">input:</text>\n",
       "<polyline fill=\"none\" points=\"172,-23.5 227,-23.5 \" stroke=\"black\"/>\n",
       "<text font-family=\"Times,serif\" font-size=\"14.00\" text-anchor=\"middle\" x=\"199.5\" y=\"-8.3\">output:</text>\n",
       "<polyline fill=\"none\" points=\"227,-0.5 227,-46.5 \" stroke=\"black\"/>\n",
       "<text font-family=\"Times,serif\" font-size=\"14.00\" text-anchor=\"middle\" x=\"268.5\" y=\"-31.3\">(None, 128)</text>\n",
       "<polyline fill=\"none\" points=\"227,-23.5 310,-23.5 \" stroke=\"black\"/>\n",
       "<text font-family=\"Times,serif\" font-size=\"14.00\" text-anchor=\"middle\" x=\"268.5\" y=\"-8.3\">(None, 27)</text>\n",
       "</g>\n",
       "<!-- 140623531514512&#45;&gt;140623531265496 -->\n",
       "<g class=\"edge\" id=\"edge12\"><title>140623531514512-&gt;140623531265496</title>\n",
       "<path d=\"M190,-83.3664C190,-75.1516 190,-65.6579 190,-56.7252\" fill=\"none\" stroke=\"black\"/>\n",
       "<polygon fill=\"black\" points=\"193.5,-56.6068 190,-46.6068 186.5,-56.6069 193.5,-56.6068\" stroke=\"black\"/>\n",
       "</g>\n",
       "</g>\n",
       "</svg>"
      ],
      "text/plain": [
       "<IPython.core.display.SVG object>"
      ]
     },
     "execution_count": 5,
     "metadata": {},
     "output_type": "execute_result"
    }
   ],
   "source": [
    "from IPython.display import SVG\n",
    "from keras.utils.vis_utils import model_to_dot\n",
    "\n",
    "SVG(model_to_dot(model, show_shapes = True).create(prog = 'dot', format = 'svg'))"
   ]
  },
  {
   "cell_type": "markdown",
   "metadata": {
    "_uuid": "0e36e001f4da29a739a30e2838c2cbd66a5fe210"
   },
   "source": [
    "Дальше мы построили матрицу смежности для всех букв:"
   ]
  },
  {
   "cell_type": "code",
   "execution_count": 6,
   "metadata": {
    "_uuid": "6bc6500ec7da215d91f64c4c3716503e0e201bfc"
   },
   "outputs": [
    {
     "data": {
      "image/png": "[encoded data removed]",
      "text/plain": [
       "<Figure size 1152x576 with 2 Axes>"
      ]
     },
     "metadata": {},
     "output_type": "display_data"
    }
   ],
   "source": [
    "from sklearn.metrics import confusion_matrix\n",
    "import seaborn as sns\n",
    "import matplotlib.cm as cm\n",
    "\n",
    "y_pred = model.predict(x_test)\n",
    "y_pred_classes = np.argmax(y_pred, axis=1)\n",
    "y_true = np.argmax(y_test, axis=1)\n",
    "confusion_mtx = confusion_matrix(y_true, y_pred_classes)\n",
    "\n",
    "fig,ax = plt.subplots(figsize=(16,8), constrained_layout = True)\n",
    "im = ax.pcolor(confusion_mtx, cmap=cm.summer, edgecolors='k', vmin=-20, vmax=20, linewidths=0.2)\n",
    "\n",
    "#sns.heatmap(confusion_mtx, annot=True, linewidths=0.01, linecolor=\"Green\", fmt='.1f', ax=ax)\n",
    "plt.xlabel(\"Predicted Label\")\n",
    "plt.ylabel(\"True Label\")\n",
    "plt.title(\"Confusion Matrix\")\n",
    "fig.colorbar(im, ax = ax, aspect=80)\n",
    "plt.show()"
   ]
  },
  {
   "cell_type": "code",
   "execution_count": null,
   "metadata": {},
   "outputs": [],
   "source": [
    "#нужны примеры картинок"
   ]
  },
  {
   "cell_type": "markdown",
   "metadata": {
    "_uuid": "f30c003985aae4073578599b365e9e8b0eaa40af"
   },
   "source": [
    " Среди букв, которые часто путаются между собой, можно выделить пары: "
   ]
  },
  {
   "cell_type": "markdown",
   "metadata": {
    "_uuid": "9149e63e06b2228c10718e4f421beeb24f88a00c"
   },
   "source": [
    "- q - g\n",
    "- v - u\n",
    "- l - i\n",
    "- j - i\n",
    "- q - a\n",
    "- g - a\n",
    "- y - v\n",
    "- r - n\n",
    "- q - o\n",
    "- o - d"
   ]
  },
  {
   "cell_type": "markdown",
   "metadata": {
    "_uuid": "1e542be5cc52fe0517d63a0a3619b010be17799a"
   },
   "source": [
    "Эти пары букв легко спутать, тк все они отличаются какой-то мелочью, например, \"q\" и \"g\" отличабтся лишь хвостиком, \"v\" и \"u\" изгибом буквы, а \"l\" и \"i\" точкой над \"i\". В остальных парах ситуация аналогична, поэтому неудвительно, что сеть путает эти буквы - при плохом написании их будет сложно отличить и обычному человеку"
   ]
  },
  {
   "cell_type": "markdown",
   "metadata": {
    "_uuid": "0b61d472029cfe98d8114028aff1cd720281f5da"
   },
   "source": [
    " Рассмотрим насколько равномерно обучилась наша модель. Для этого найдем процентное отношение количества ошибок для каждой буквы к общему количеству ошибок"
   ]
  },
  {
   "cell_type": "code",
   "execution_count": 7,
   "metadata": {
    "_uuid": "2e0329c93b08987b677da1c03861df05e4a8495f"
   },
   "outputs": [
    {
     "data": {
      "text/html": [
       "<div>\n",
       "<style scoped>\n",
       "    .dataframe tbody tr th:only-of-type {\n",
       "        vertical-align: middle;\n",
       "    }\n",
       "\n",
       "    .dataframe tbody tr th {\n",
       "        vertical-align: top;\n",
       "    }\n",
       "\n",
       "    .dataframe thead th {\n",
       "        text-align: right;\n",
       "    }\n",
       "</style>\n",
       "<table border=\"1\" class=\"dataframe\">\n",
       "  <thead>\n",
       "    <tr style=\"text-align: right;\">\n",
       "      <th></th>\n",
       "      <th>0</th>\n",
       "    </tr>\n",
       "  </thead>\n",
       "  <tbody>\n",
       "    <tr>\n",
       "      <th>count</th>\n",
       "      <td>26.000000</td>\n",
       "    </tr>\n",
       "    <tr>\n",
       "      <th>mean</th>\n",
       "      <td>3.846154</td>\n",
       "    </tr>\n",
       "    <tr>\n",
       "      <th>std</th>\n",
       "      <td>4.883362</td>\n",
       "    </tr>\n",
       "    <tr>\n",
       "      <th>min</th>\n",
       "      <td>0.772798</td>\n",
       "    </tr>\n",
       "    <tr>\n",
       "      <th>25%</th>\n",
       "      <td>1.236476</td>\n",
       "    </tr>\n",
       "    <tr>\n",
       "      <th>50%</th>\n",
       "      <td>1.931994</td>\n",
       "    </tr>\n",
       "    <tr>\n",
       "      <th>75%</th>\n",
       "      <td>4.018547</td>\n",
       "    </tr>\n",
       "    <tr>\n",
       "      <th>max</th>\n",
       "      <td>20.401855</td>\n",
       "    </tr>\n",
       "  </tbody>\n",
       "</table>\n",
       "</div>"
      ],
      "text/plain": [
       "               0\n",
       "count  26.000000\n",
       "mean    3.846154\n",
       "std     4.883362\n",
       "min     0.772798\n",
       "25%     1.236476\n",
       "50%     1.931994\n",
       "75%     4.018547\n",
       "max    20.401855"
      ]
     },
     "execution_count": 7,
     "metadata": {},
     "output_type": "execute_result"
    },
    {
     "data": {
      "image/png": "[encoded data removed]",
      "text/plain": [
       "<Figure size 432x288 with 1 Axes>"
      ]
     },
     "metadata": {},
     "output_type": "display_data"
    }
   ],
   "source": [
    "args = np.zeros(26)\n",
    "\n",
    "for i in range (y_test.shape[0]):\n",
    "    x = x_test[i].reshape(1,28,28,1)\n",
    "    y = np.argmax(model.predict(x))\n",
    "    if np.argmax(y_test[i]) != y:\n",
    "        args[y - 1] += 1\n",
    "        \n",
    "args = args*100/sum(args)\n",
    "\n",
    "plt.plot(range(26), args)\n",
    "pd.DataFrame(data=100*args/sum(args)).describe()"
   ]
  },
  {
   "cell_type": "markdown",
   "metadata": {
    "_uuid": "669843684aa1b15ebf05f2ef8a0d5d3005e48027"
   },
   "source": [
    "Как мы видим, есть несколько пиков - модель обучилась неравномерно и на каких-то буквах система ошибается чаще.\n",
    "\n",
    "Максимальная ошибка соответсвует 8 букве - \"h\". Это произошло из-за того, что ее можно написать так криво, что она будет похоже и на \"n\", и даже на \"b\".\n",
    "Процент детекции: \n",
    "\n",
    "Минимальная ошибка соответсвует букве \"z\". Это можно объяснить тем, что ни одна буква не пишется похожим на \"z\" образом. Это заметно и на матрице смежности.\n",
    "Процент детекции:"
   ]
  },
  {
   "cell_type": "markdown",
   "metadata": {
    "_uuid": "3fc4dac7676b7fa5cfddd5fff0b6e1ac3c600fbb"
   },
   "source": [
    "Рассмoтрим 1е буквы наших фамилий - \"S\" и \"М\".\n"
   ]
  },
  {
   "cell_type": "code",
   "execution_count": null,
   "metadata": {},
   "outputs": [],
   "source": []
  },
  {
   "cell_type": "markdown",
   "metadata": {
    "_uuid": "affdf9b3d2a40946d8a4068c6ed725ccfc33a9a2"
   },
   "source": [
    "# Цветовая карта:"
   ]
  },
  {
   "cell_type": "code",
   "execution_count": null,
   "metadata": {
    "_uuid": "c3dd2997ca36035fc6441b52a1e582aeccef1114"
   },
   "outputs": [],
   "source": []
  },
  {
   "cell_type": "code",
   "execution_count": null,
   "metadata": {
    "_uuid": "2eb05ae9e194dba49c9c292539b8bdc1550af414"
   },
   "outputs": [],
   "source": []
  },
  {
   "cell_type": "code",
   "execution_count": null,
   "metadata": {
    "_uuid": "a7a9a8ecb50102a9c4b9f90f52269926f228ba41"
   },
   "outputs": [],
   "source": []
  },
  {
   "cell_type": "code",
   "execution_count": null,
   "metadata": {
    "_uuid": "24b1098f843bcdca957e847af9bc02f50338773c"
   },
   "outputs": [],
   "source": [
    "plt.imshow(x_train[7].T.reshape((28, 28)), cmap='gray')\n",
    "plt.show()\n",
    "\n",
    "x = x_train[7].reshape(1,28,28,1)\n",
    "y = np.argmax(model.predict(x))\n",
    "\n",
    "def shit(s):\n",
    "    print(chr(ord('a') + s - 1))\n",
    "\n",
    "shit(np.argmax(y_train[7]))\n",
    "\n",
    "shit(y)"
   ]
  },
  {
   "cell_type": "code",
   "execution_count": null,
   "metadata": {
    "_uuid": "2463f89db27d5f4664eb48c6ccc7062894ad6a5b"
   },
   "outputs": [],
   "source": []
  },
  {
   "cell_type": "markdown",
   "metadata": {
    "_uuid": "a5562da44ccee85a52a754dc5bc98d6fd95755f5"
   },
   "source": [
    "# Творческое задание"
   ]
  },
  {
   "cell_type": "code",
   "execution_count": null,
   "metadata": {
    "_uuid": "72e9487a3d287676623f363f01802cb0edcc8a0f"
   },
   "outputs": [],
   "source": []
  }
 ],
 "metadata": {
  "kernelspec": {
   "display_name": "Python 3",
   "language": "python",
   "name": "python3"
  },
  "language_info": {
   "codemirror_mode": {
    "name": "ipython",
    "version": 3
   },
   "file_extension": ".py",
   "mimetype": "text/x-python",
   "name": "python",
   "nbconvert_exporter": "python",
   "pygments_lexer": "ipython3",
   "version": "3.6.7"
  }
 },
 "nbformat": 4,
 "nbformat_minor": 2
}
